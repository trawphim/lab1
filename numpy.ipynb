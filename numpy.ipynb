{
 "cells": [
  {
   "cell_type": "markdown",
   "metadata": {
    "id": "vC84e9kzyxPy"
   },
   "source": [
    "<h1>Импорт библиотек"
   ]
  },
  {
   "cell_type": "code",
   "execution_count": 3,
   "metadata": {
    "id": "cgKeNegmQG5S"
   },
   "outputs": [],
   "source": [
    "import numpy as np\n",
    "import matplotlib.pyplot as plt"
   ]
  },
  {
   "cell_type": "markdown",
   "metadata": {
    "id": "qFM9uVU2x4Ls"
   },
   "source": [
    "<h1>Задача 1. Дан набор из $p$ матриц размерностью $(n, n)$ и $p$ векторов размерностью $(n, 1)$, найти сумму произведений матриц на векторы. Написать тесты для кода"
   ]
  },
  {
   "cell_type": "code",
   "execution_count": null,
   "metadata": {
    "id": "IAbUvEiYyWFF"
   },
   "outputs": [],
   "source": [
    "import numpy as np\n",
    "\n",
    "def sum_prod(X, V):\n",
    "    '''\n",
    "    X - матрицы (n, n)\n",
    "    V - векторы (n, 1)\n",
    "    Гарантируется, что len(X) == len(V)\n",
    "    '''\n",
    "    if len(X) != len(V):\n",
    "        raise ValueError(\"Length of matrices and vectors must be the same.\")\n",
    "    total_sum = np.zeros_like(V[0])  # Инициализируем сумму с нулевым вектором того же размера\n",
    "    for x, v in zip(X, V):\n",
    "        total_sum += np.dot(x, v)  # Умножаем матрицу на вектор и добавляем к общей сумме return total_sum\n",
    "\n",
    "# Тесты\n",
    "import unittest\n",
    "\n",
    "class TestSumProd(unittest.TestCase):\n",
    "    def test_basic_case(self):\n",
    "        X = [np.array([[1, 2], [3, 4]]), np.array([[5, 6], [7, 8]])]\n",
    "        V = [np.array([[1], [1]]), np.array([[1], [1]])]\n",
    "        result = sum_prod(X, V)\n",
    "        expected = np.array([[30], [70]])  # (1+2)+(5+6), (3+4)+(7+8)\n",
    "        np.testing.assert_array_equal(result, expected)\n",
    "\n",
    "    def test_different_sizes(self):\n",
    "        X = [np.array([[1, 2]]), np.array([[3, 4]])]\n",
    "        V = [np.array([[1]]), np.array([[1]])]\n",
    "        result = sum_prod(X, V)\n",
    "        expected = np.array([[4]])  # 1*1 + 2*1 + 3*1 + 4*1\n",
    "        np.testing.assert_array_equal(result, expected)\n",
    "\n",
    "    def test_error_on_different_lengths(self):\n",
    "        X = [np.array([[1, 2]])]\n",
    "        V = [np.array([[1]]), np.array([[1]])]\n",
    "        with self.assertRaises(ValueError):\n",
    "            sum_prod(X, V)\n",
    "\n",
    "if __name__ == '__main__':\n",
    "    unittest.main()"
   ]
  },
  {
   "cell_type": "markdown",
   "metadata": {
    "id": "TKwPG4fIy2w4"
   },
   "source": [
    "<h1>Задача 2. Дана матрица M, напишите функцию, которая бинаризует матрицу по некоторому threshold (то есть, все значения большие threshold становятся равными 1, иначе 0). Напишите тесты для кода"
   ]
  },
  {
   "cell_type": "code",
   "execution_count": null,
   "metadata": {
    "id": "KQDNMgsjRNH7"
   },
   "outputs": [],
   "source": [
    "import numpy as np\n",
    "\n",
    "def binarize(M, threshold=0.5):\n",
    "    '''\n",
    "    Бинаризует матрицу M по заданному порогу threshold.\n",
    "    Все значения больше threshold становятся равными 1, остальные — 0.\n",
    "    '''\n",
    "    return (M > threshold).astype(int)  # Преобразуем булев массив в целочисленный\n",
    "\n",
    "# Тесты\n",
    "import unittest\n",
    "\n",
    "class TestBinarize(unittest.TestCase):\n",
    "    def test_basic_case(self):\n",
    "        M = np.array([[0.1, 0.6], [0.4, 0.8]])\n",
    "        result = binarize(M, threshold=0.5)\n",
    "        expected = np.array([[0, 1], [0, 1]])\n",
    "        np.testing.assert_array_equal(result, expected)\n",
    "\n",
    "    def test_all_below_threshold(self):\n",
    "        M = np.array([[0.1, 0.2], [0.3, 0.4]])\n",
    "        result = binarize(M, threshold=0.5)\n",
    "        expected = np.array([[0, 0], [0, 0]])\n",
    "        np.testing.assert_array_equal(result, expected)\n",
    "\n",
    "    def test_all_above_threshold(self):\n",
    "        M = np.array([[0.6, 0.7], [0.8, 0.9]])\n",
    "        result = binarize(M, threshold=0.5)\n",
    "        expected = np.array([[1, 1], [1, 1]])\n",
    "        np.testing.assert_array_equal(result, expected)\n",
    "\n",
    "    def test_edge_case_threshold(self):\n",
    "        M = np.array([[0.5, 0.5], [0.5, 0.5]])\n",
    "        result = binarize(M, threshold=0.5)\n",
    "        expected = np.array([[0, 0], [0, 0]])  # В данном случае, значения равные threshold становятся 0\n",
    "        np.testing.assert_array_equal(result, expected)\n",
    "\n",
    "if __name__ == '__main__':\n",
    "    unittest.main()"
   ]
  },
  {
   "cell_type": "markdown",
   "metadata": {
    "id": "IY5L-h-7zWhN"
   },
   "source": [
    "<h1>Задача 3. Напишите функцию, которая возвращает уникальные элементы из каждой строки матрицы. Напишите такую же функцию, но для столбцов. Напишите тесты для кода"
   ]
  },
  {
   "cell_type": "code",
   "execution_count": null,
   "metadata": {
    "id": "-8dEZhR0SBC-"
   },
   "outputs": [],
   "source": [
    "import numpy as np\n",
    "\n",
    "def unique_rows(mat):\n",
    "    #Возвращает уникальные элементы из каждой строки матрицы.\n",
    "    return [np.unique(row) for row in mat]\n",
    "\n",
    "def unique_columns(mat):\n",
    "    #Возвращает уникальные элементы из каждой колонки матрицы.\n",
    "    return [np.unique(col) for col in mat.T]  # Транспонируем матрицу для обработки колонок\n",
    "\n",
    "# Тесты\n",
    "import unittest\n",
    "\n",
    "class TestUniqueElements(unittest.TestCase):\n",
    "    def test_unique_rows(self):\n",
    "        mat = np.array([[1, 2, 2], [3, 4, 4], [5, 5, 5]])\n",
    "        result = unique_rows(mat)\n",
    "        expected = [np.array([1, 2]), np.array([3, 4]), np.array([5])]\n",
    "        for r, e in zip(result, expected):\n",
    "            np.testing.assert_array_equal(r, e)\n",
    "\n",
    "    def test_unique_columns(self):\n",
    "        mat = np.array([[1, 2, 2], [3, 4, 4], [1, 4, 5]])\n",
    "        result = unique_columns(mat)\n",
    "        expected = [np.array([1, 3]), np.array([2, 4]), np.array([2, 4, 5])]\n",
    "        for r, e in zip(result, expected):\n",
    "            np.testing.assert_array_equal(r, e)\n",
    "\n",
    "    def test_empty_matrix(self):\n",
    "        mat = np.array([[]])\n",
    "        result_rows = unique_rows(mat)\n",
    "        result_columns = unique_columns(mat)\n",
    "        self.assertEqual(result_rows, [[]])\n",
    "        self.assertEqual(result_columns, [[]])\n",
    "\n",
    "if __name__ == '__main__':\n",
    "    unittest.main()"
   ]
  },
  {
   "cell_type": "markdown",
   "metadata": {
    "id": "roYAlo4Jz-lH"
   },
   "source": [
    "<h1>Задача 4. Напишите функцию, которая заполняет матрицу с размерами $(m, n)$ случайными числами, распределенными по нормальному закону. Затем считает мат. ожидание и дисперсию для каждого из столбцов и строк, а также строит для каждой строки и столбца гистограмму значений (использовать функцию hist из модуля matplotlib.plot)"
   ]
  },
  {
   "cell_type": "code",
   "execution_count": null,
   "metadata": {
    "id": "nZK_71hMSQzv"
   },
   "outputs": [],
   "source": [
    "mport numpy as np\n",
    "import matplotlib.pyplot as plt\n",
    "\n",
    "def generate_random_matrix(rows, cols):\n",
    "    '''\n",
    "    Генерирует матрицу случайных чисел, распределенных по нормальному закону.\n",
    "    '''\n",
    "    return np.random.normal(loc=0, scale=1, size=(rows, cols)\n",
    "\n",
    "def calculate_statistics(mat):\n",
    "    '''\n",
    "    Рассчитывает математическое ожидание и дисперсию для каждой строки и столбца.\n",
    "    '''\n",
    "    row_means = np.mean(mat, axis=1)\n",
    "    row_vars = np.var(mat, axis=1)\n",
    "    col_means = np.mean(mat, axis=0)\n",
    "    col_vars = np.var(mat, axis=0)\n",
    "    \n",
    "    return {\n",
    "        'row_means': row_means,\n",
    "        'row_vars': row_vars,\n",
    "        'col_means': col_means,\n",
    "        'col_vars': col_vars }\n",
    "\n",
    "def plot_histograms(mat):\n",
    "    '''\n",
    "    Строит гистограммы значений для каждой строки и столбца матрицы.\n",
    "    '''\n",
    "    # Гистограммы для строк\n",
    "    for i in range(mat.shape[0]):\n",
    "        plt.figure()\n",
    "        plt.hist(mat[i], bins=10, alpha=0.7)\n",
    "        plt.title(f'Histogram of Row {i}')\n",
    "        plt.xlabel('Value')\n",
    "        plt.ylabel('Frequency')\n",
    "        plt.grid()\n",
    "        plt.show()\n",
    "\n",
    "    # Гистограммы для столбцов\n",
    "    for j in range(mat.shape[1]):\n",
    "        plt.figure()\n",
    "        plt.hist(mat[:, j], bins=10, alpha=0.7)\n",
    "        plt.title(f'Histogram of Column {j}')\n",
    "        plt.xlabel('Value')\n",
    "        plt.ylabel('Frequency')\n",
    "        plt.grid()\n",
    "        plt.show()\n",
    "\n",
    "# Пример использования\n",
    "if __name__ == '__main__':\n",
    "    rows, cols = 5, 3  # Задаем размеры матрицы random_matrix = generate_random_matrix(rows, cols)\n",
    "    statistics = calculate_statistics(random_matrix)\n",
    "    print(statistics)\n",
    "    plot_histograms(random_matrix)"
   ]
  },
  {
   "cell_type": "markdown",
   "metadata": {
    "id": "BDyATNdM0dJ2"
   },
   "source": [
    "<h1>Задача 5. Напишите функцию, которая заполняет матрицу $(m, n)$ в шахматном порядке заданными числами $a$ и $b$. Напишите тесты для кода"
   ]
  },
  {
   "cell_type": "code",
   "execution_count": null,
   "metadata": {
    "id": "RWNJYWQGecS6"
   },
   "outputs": [],
   "source": [
    "import numpy as np\n",
    "import unittest\n",
    "\n",
    "def generate_chessboard_matrix(m, n, a, b):\n",
    "    '''\n",
    "    Генерирует матрицу (m, n) в шахматном порядке, заполняя ее числами a и b.\n",
    "    '''\n",
    "    matrix = np.zeros((m, n), dtype=int)\n",
    "    for i in range(m):\n",
    "        for j in range(n):\n",
    "            if (i + j) % 2 == 0:\n",
    "                matrix[i, j] = a\n",
    "            else:\n",
    "                matrix[i, j] = b\n",
    "    return matrix\n",
    "\n",
    "class TestChessboardMatrix(unittest.TestCase):\n",
    "    def test_chessboard_matrix(self):\n",
    "        # Тест 1\n",
    "        result = generate_chessboard_matrix(2, 2, 1, 0)\n",
    "        expected = np.array([[1, 0], [0, 1]])\n",
    "        np.testing.assert_array_equal(result, expected)\n",
    "\n",
    "        # Тест 2\n",
    "        result = generate_chessboard_matrix(3, 3, 2, 3)\n",
    "        expected = np.array([[2, 3, 2], [3, 2, 3], [2, 3, 2]])\n",
    "        np.testing.assert_array_equal(result, expected)\n",
    "\n",
    "        # Тест 3\n",
    "        result = generate_chessboard_matrix(4, 5, 5, 10)\n",
    "        expected = np.array([[5, 10, 5, 10, 5], [10, 5, 10, 5, 10], \n",
    "                             [5, 10, 5, 10, 5], [10, 5, 10, 5, 10]])\n",
    "        np.testing.assert_array_equal(result, expected)\n",
    "\n",
    "if __name__ == '__main__':\n",
    "    unittest.main()"
   ]
  },
  {
   "cell_type": "markdown",
   "metadata": {
    "id": "-ymXLtTN0vB6"
   },
   "source": [
    "<h1>Задача 6. Напишите функцию, которая отрисовывает прямоугольник с заданными размерами (a, b) на изображении размера (m, n), цвет фона задайте в схеме RGB, как и цвет прямоугольника. Цвета также должны быть параметрами функции. Напишите аналогичную функцию но для овала с полуосями a и b. Напишите тесты для кода.\n",
    "Примечание: уравнение эллипса (границы овала) можно записать как:\n",
    "<h1>$\\frac{(x-x_0)^2}{a^2}+\\frac{(y-y_0)^2}{b^2}=1$"
   ]
  },
  {
   "cell_type": "code",
   "execution_count": null,
   "metadata": {
    "id": "sNfl1t_kfOF4"
   },
   "outputs": [],
   "source": [
    "import numpy as np\n",
    "import matplotlib.pyplot as plt\n",
    "import unittest\n",
    "\n",
    "def draw_rectangle(m, n, a, b, bg_color, rect_color):\n",
    "    '''\n",
    "    Рисует прямоугольник на изображении заданного размера.\n",
    "    '''\n",
    "    image = np.zeros((m, n, 3), dtype=np.uint8)\n",
    "    image[:] = bg_color  # Задаем цвет фона # Рисуем прямоугольник\n",
    "    image[a:a + b, :n] = rect_color  # Прямоугольник на всем протяжении по ширине\n",
    "    return image\n",
    "\n",
    "def draw_oval(m, n, a, b, bg_color, oval_color):\n",
    "    '''\n",
    "    Рисует овал на изображении заданного размера.\n",
    "    '''\n",
    "    image = np.zeros((m, n, 3), dtype=np.uint8)\n",
    "    image[:] = bg_color  # Задаем цвет фона\n",
    "\n",
    "    y, x = np.ogrid[:m, :n]\n",
    "    mask = ((x - n // 2) ** 2) / (a ** 2) + ((y - m // 2) ** 2) / (b ** 2) <= 1\n",
    "    image[mask] = oval_color  # Задаем цвет овала\n",
    "    return image\n",
    "\n",
    "class TestDrawingFunctions(unittest.TestCase):\n",
    "    def test_draw_rectangle(self):\n",
    "        bg_color = [255, 255, 255]  # Белый фон rect_color = [255, 0, 0]     # Красный прямоугольник image = draw_rectangle(10, 10, 2, 5, bg_color, rect_color)\n",
    " # Проверяем, что прямоугольник нарисован self.assertTrue(np.array_equal(image[2:7, :10], rect_color))\n",
    "\n",
    "    def test_draw_oval(self):\n",
    "        bg_color = [255, 255, 255]  # Белый фон oval_color = [0, 255, 0]     # Зеленый овал\n",
    "        image = draw_oval(10, 10, 3, 2, bg_color, oval_color)\n",
    "        \n",
    "        # Проверяем, что овал нарисован\n",
    "        center = (5, 5)\n",
    "        for i in range(10):\n",
    "            for j in range(10):\n",
    "                if ((j - center[1]) ** 2) / (3 ** 2) + ((i - center[0]) ** 2) / (2 ** 2) <= 1:\n",
    "                    self.assertTrue(np.array_equal(image[i, j], oval_color))\n",
    "\n",
    "if __name__ == '__main__':\n",
    "    unittest.main()"
   ]
  },
  {
   "cell_type": "markdown",
   "metadata": {
    "id": "S82c38oz244H"
   },
   "source": [
    "<h1>Задача 7. Дан некий временной ряд. Для данного ряда нужно найти его: математическое ожидание, дисперсию, СКО, найти все локальные максимумы и минимумы (локальный максимум - это точка, которая больше своих соседних точек, а локальный минимум - это точка, которая меньше своих соседей), а также вычислить для данного ряда другой ряд, получаемый методом скользящего среднего с размером окна $p$.\n",
    "<h1>Примечание: метод скользящего среднего подразумевает нахождение среднего из подмножетсва ряда размером $p$"
   ]
  },
  {
   "cell_type": "code",
   "execution_count": 10,
   "metadata": {
    "id": "Zb9mIVge5MMt"
   },
   "outputs": [
    {
     "name": "stdout",
     "output_type": "stream",
     "text": [
      "Математическое ожидание: 4.846153846153846\n",
      "Дисперсия: 3.8224852071005917\n",
      "Стандартное отклонение: 1.9551176964828976\n",
      "Локальные максимумы: [3, 5, 6, 8]\n",
      "Локальные минимумы: [2, 4, 5]\n",
      "Скользящее среднее: [2.         3.33333333 3.66666667 5.         5.         6.\n",
      " 6.66666667 7.33333333 7.         6.         5.        ]\n"
     ]
    }
   ],
   "source": [
    "import numpy as np\n",
    "\n",
    "def calculate_statistics(time_series):\n",
    "    '''\n",
    "    Вычисляет математическое ожидание, дисперсию и СКО временного ряда.\n",
    "    '''\n",
    "    mean = np.mean(time_series)\n",
    "    variance = np.var(time_series)\n",
    "    std_dev = np.std(time_series)\n",
    "    return mean, variance, std_dev\n",
    "\n",
    "def find_local_extrema(time_series):\n",
    "    '''\n",
    "    Находит локальные максимумы и минимумы в временном ряде.\n",
    "    '''\n",
    "    local_maxima = []\n",
    "    local_minima = []\n",
    "    \n",
    "    for i in range(1, len(time_series) - 1):\n",
    "        if time_series[i] > time_series[i - 1] and time_series[i] > time_series[i + 1]:\n",
    "            local_maxima.append(time_series[i])\n",
    "        elif time_series[i] < time_series[i - 1] and time_series[i] < time_series[i + 1]:\n",
    "            local_minima.append(time_series[i])\n",
    "    \n",
    "    return local_maxima, local_minima\n",
    "\n",
    "def moving_average(time_series, p):\n",
    "    '''\n",
    "    Вычисляет скользящее среднее временного ряда с размером окна p.\n",
    "    '''\n",
    "    return np.convolve(time_series, np.ones(p)/p, mode='valid')\n",
    "\n",
    "# Пример использования\n",
    "time_series = [1, 3, 2, 5, 4, 6, 5, 7, 8, 7, 6, 5, 4]\n",
    "mean, variance, std_dev = calculate_statistics(time_series)\n",
    "local_maxima, local_minima = find_local_extrema(time_series)\n",
    "moving_avg = moving_average(time_series, 3)\n",
    "\n",
    "print(\"Математическое ожидание:\", mean)\n",
    "print(\"Дисперсия:\", variance)\n",
    "print(\"Стандартное отклонение:\", std_dev)\n",
    "print(\"Локальные максимумы:\", local_maxima)\n",
    "print(\"Локальные минимумы:\", local_minima)\n",
    "print(\"Скользящее среднее:\", moving_avg)"
   ]
  },
  {
   "cell_type": "markdown",
   "metadata": {
    "id": "jPkylmOX5O9n"
   },
   "source": [
    "<h1> Задача 8. Дан некоторый вектор с целочисленными метками классов, напишите функцию, которая выполняет one-hot-encoding для данного вектора\n",
    "<h1> One-hot-encoding - представление, в котором на месте метки некоторого класса стоит 1, в остальных позициях стоит 0. Например для вектора [0, 2, 3, 0] one-hot-encoding выглядит как: [[1, 0, 0, 0], [0, 0, 1, 0], [0, 0, 0, 1], [1, 0, 0, 0]]"
   ]
  },
  {
   "cell_type": "code",
   "execution_count": 11,
   "metadata": {
    "id": "Y-jlnZvw56lD"
   },
   "outputs": [
    {
     "name": "stdout",
     "output_type": "stream",
     "text": [
      "One-hot encoding:\n",
      " [[1 0 0]\n",
      " [0 0 0]\n",
      " [0 0 0]\n",
      " [0 0 0]]\n"
     ]
    }
   ],
   "source": [
    "import numpy as np\n",
    "\n",
    "def one_hot_encoding(class_vector):\n",
    "    '''\n",
    "    Выполняет one-hot-encoding для данного вектора меток классов.\n",
    "    '''\n",
    "    unique_classes = np.unique(class_vector)\n",
    "    one_hot_matrix = np.zeros((len(class_vector), len(unique_classes)), dtype=int)\n",
    "    for i, label in enumerate(class_vector):\n",
    "        one_hot_matrix[i, label] = 1 \n",
    "        return one_hot_matrix\n",
    "\n",
    "# Пример\n",
    "class_vector = [0, 2, 3, 0]\n",
    "one_hot_result = one_hot_encoding(class_vector)\n",
    "\n",
    "print(\"One-hot encoding:\\n\", one_hot_result)"
   ]
  },
  {
   "cell_type": "code",
   "execution_count": null,
   "metadata": {},
   "outputs": [],
   "source": []
  }
 ],
 "metadata": {
  "colab": {
   "provenance": []
  },
  "kernelspec": {
   "display_name": "Python 3 (ipykernel)",
   "language": "python",
   "name": "python3"
  },
  "language_info": {
   "codemirror_mode": {
    "name": "ipython",
    "version": 3
   },
   "file_extension": ".py",
   "mimetype": "text/x-python",
   "name": "python",
   "nbconvert_exporter": "python",
   "pygments_lexer": "ipython3",
   "version": "3.12.4"
  }
 },
 "nbformat": 4,
 "nbformat_minor": 4
}
