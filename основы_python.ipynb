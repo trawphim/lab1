{
 "cells": [
  {
   "cell_type": "markdown",
   "metadata": {
    "id": "M-DGa20PaHnu"
   },
   "source": [
    "#Задача 1\n",
    "Написать функцию на вход которой подается строка, состоящая из латинских букв.\n",
    "Функция должна вернуть количество гласных букв (a, e, i, o, u) в этой строке. Написать тесты для кода"
   ]
  },
  {
   "cell_type": "code",
   "execution_count": null,
   "metadata": {
    "id": "XvX8X_JJ6PCb"
   },
   "outputs": [],
   "source": [
    "def count_vowels(s):\n",
    "    vowels = 'aeiou'\n",
    "    count = 0 for char in s:\n",
    "        if char.lower() in vowels:\n",
    "            count += 1\n",
    "    return count\n",
    "\n",
    "# Тесты\n",
    "import unittest\n",
    "\n",
    "class TestCountVowels(unittest.TestCase):\n",
    "    def test_empty_string(self):\n",
    "        self.assertEqual(count_vowels(''), 0)\n",
    "\n",
    "    def test_no_vowels(self):\n",
    "        self.assertEqual(count_vowels('bcdfg'), 0)\n",
    "\n",
    "    def test_all_vowels(self):\n",
    "        self.assertEqual(count_vowels('aeiou'), 5)\n",
    "\n",
    "    def test_mixed_case(self):\n",
    "        self.assertEqual(count_vowels('Hello World'), 3)\n",
    "\n",
    "    def test_long_string(self):\n",
    "        self.assertEqual(count_vowels('This is a test string with multiple vowels'), 10)\n",
    "\n",
    "if __name__ == '__main__':\n",
    "    unittest.main()"
   ]
  },
  {
   "cell_type": "markdown",
   "metadata": {
    "id": "t2ClV_Y0bbr6"
   },
   "source": [
    "# Задача 2\n",
    "Написать функцию на вход, которой подается строка. Функция должна вернуть true, если\n",
    "каждый символ в строке встречается только 1 раз, иначе должна вернуть false. Написать тесты для кода"
   ]
  },
  {
   "cell_type": "code",
   "execution_count": null,
   "metadata": {
    "id": "FppbECao6VIz"
   },
   "outputs": [],
   "source": [
    "def has_unique_characters(s):\n",
    "    seen = set()\n",
    "    for char in s:\n",
    "        if char in seen:\n",
    "            return False seen.add(char)\n",
    "    return True\n",
    "\n",
    "# Тесты\n",
    "import unittest\n",
    "\n",
    "class TestHasUniqueCharacters(unittest.TestCase):\n",
    "    def test_empty_string(self):\n",
    "        self.assertTrue(has_unique_characters(''))\n",
    "\n",
    "    def test_unique_characters(self):\n",
    "        self.assertTrue(has_unique_characters('abcde'))\n",
    "\n",
    "    def test_non_unique_characters(self):\n",
    "        self.assertFalse(has_unique_characters('aabbcc'))\n",
    "\n",
    "    def test_mixed_characters(self):\n",
    "        self.assertTrue(has_unique_characters('abcdefg123'))\n",
    "\n",
    "    def test_case_sensitive(self):\n",
    "        self.assertTrue(has_unique_characters('Abcde'))\n",
    "        self.assertFalse(has_unique_characters('aAbcde'))\n",
    "\n",
    "if __name__ == '__main__':\n",
    "    unittest.main()"
   ]
  },
  {
   "cell_type": "markdown",
   "metadata": {
    "id": "udRiIK1cdt6E"
   },
   "source": [
    "# Задача 3\n",
    "Написать функцию, которая принимает положительное число и возвращает количество\n",
    "бит равных 1 в этом числе. Написать тесты для кода"
   ]
  },
  {
   "cell_type": "code",
   "execution_count": null,
   "metadata": {
    "id": "6tkfDJRz6dp_"
   },
   "outputs": [],
   "source": [
    "def count_bits(n):\n",
    "    return bin(n).count('1')\n",
    "\n",
    "# Тесты\n",
    "import unittest\n",
    "\n",
    "class TestCountBits(unittest.TestCase):\n",
    "    def test_zero(self):\n",
    "        self.assertEqual(count_bits(0), 0)\n",
    "\n",
    "    def test_one(self):\n",
    "        self.assertEqual(count_bits(1), 1)\n",
    "\n",
    "    def test_two(self):\n",
    "        self.assertEqual(count_bits(2), 1)\n",
    "\n",
    "    def test_three(self):\n",
    "        self.assertEqual(count_bits(3), 2)\n",
    "\n",
    "    def test_five(self):\n",
    "        self.assertEqual(count_bits(5), 2)\n",
    "\n",
    "    def test_ten(self):\n",
    "        self.assertEqual(count_bits(10), 2)\n",
    "\n",
    "    def test_large_number(self):\n",
    "        self.assertEqual(count_bits(255), 8)\n",
    "\n",
    "if __name__ == '__main__':\n",
    "    unittest.main()"
   ]
  },
  {
   "cell_type": "markdown",
   "metadata": {
    "id": "26dDUz-Ae17N"
   },
   "source": [
    "# Задача 4\n",
    "Написать функцию, которая принимает положительное число. Функция должна вернуть то,\n",
    "сколько раз необходимо перемножать цифры числа или результат перемножения, чтобы\n",
    "получилось число состоящее из одной цифры.\n",
    "Например, для входного числа:\n",
    "· 39 функция должна вернуть 3, так как 3*9=27 => 2*7=14 => 1*4=4\n",
    "· 4 функция должна вернуть 0, так как число уже состоит из одной цифры\n",
    "· 999 функция должна вернуть 4, так как 9*9*9=729 => 7*2*9=126 => 1*2*6=12 =>\n",
    "1*2=2. Написать тесты для кода"
   ]
  },
  {
   "cell_type": "code",
   "execution_count": null,
   "metadata": {
    "id": "BH1A_Mgi6i4G"
   },
   "outputs": [],
   "source": [
    "def multiply_until_single_digit(n):\n",
    "    if n < 10:\n",
    "        return 0 count = 0 while n >= 10:\n",
    "        product = 1 while n > 0:\n",
    "            product *= n % 10\n",
    "            n //= 10 n = product\n",
    "        count += 1\n",
    "    return count\n",
    "\n",
    "# Тесты\n",
    "import unittest\n",
    "\n",
    "class TestMultiplyUntilSingleDigit(unittest.TestCase):\n",
    "    def test_single_digit(self):\n",
    "        self.assertEqual(multiply_until_single_digit(4), 0)\n",
    "\n",
    "    def test_two_digits(self):\n",
    "        self.assertEqual(multiply_until_single_digit(39), 3)\n",
    "\n",
    "    def test_three_digits(self):\n",
    "        self.assertEqual(multiply_until_single_digit(999), 4)\n",
    "\n",
    "    def test_another_two_digits(self):\n",
    "        self.assertEqual(multiply_until_single_digit(27), 2)\n",
    "\n",
    "    def test_large_number(self):\n",
    "        self.assertEqual(multiply_until_single_digit(678), 3)\n",
    "\n",
    "if __name__ == '__main__':\n",
    "    unittest.main()"
   ]
  },
  {
   "cell_type": "markdown",
   "metadata": {
    "id": "0nS-kIa8g8vd"
   },
   "source": [
    "# Задача 5\n",
    "Написать функцию, которая принимает два целочисленных вектора одинаковой длины и\n",
    "возвращает среднеквадратическое отклонение двух векторов. Написать тесты для кода"
   ]
  },
  {
   "cell_type": "code",
   "execution_count": null,
   "metadata": {
    "id": "8iphx4LM6xbx"
   },
   "outputs": [],
   "source": [
    "import math\n",
    "\n",
    "def calculate_stddev(vector1, vector2):\n",
    "    if len(vector1) != len(vector2):\n",
    "        raise ValueError(\"Vectors must be of the same length.\")\n",
    "\n",
    "    def stddev(vector):\n",
    "        mean = sum(vector) / len(vector)\n",
    "        variance = sum((x - mean) ** 2 for x in vector) / len(vector)\n",
    "        return math.sqrt(variance)\n",
    "\n",
    "    return stddev(vector1), stddev(vector2)\n",
    "\n",
    "# Тесты\n",
    "import unittest\n",
    "\n",
    "class TestCalculateStddev(unittest.TestCase):\n",
    "    def test_equal_vectors(self):\n",
    "        vec1 = [1, 2, 3]\n",
    "        vec2 = [1, 2, 3]\n",
    "        self.assertEqual(calculate_stddev(vec1, vec2), (1.0, 1.0))\n",
    "\n",
    "    def test_different_vectors(self):\n",
    "        vec1 = [1, 2, 3, 4, 5]\n",
    "        vec2 = [5, 4, 3, 2, 1]\n",
    "        self.assertAlmostEqual(calculate_stddev(vec1, vec2)[0], 1.4142135623730951)\n",
    "        self.assertAlmostEqual(calculate_stddev(vec1, vec2)[1], 1.4142135623730951)\n",
    "\n",
    "    def test_zero_variance(self):\n",
    "        vec1 = [2, 2, 2]\n",
    "        vec2 = [3, 3, 3]\n",
    "        self.assertEqual(calculate_stddev(vec1, vec2), (0.0, 0.0))\n",
    "\n",
    "    def test_different_lengths(self):\n",
    "        vec1 = [1, 2, 3]\n",
    "        vec2 = [1, 2]\n",
    "        with self.assertRaises(ValueError):\n",
    "            calculate_stddev(vec1, vec2)\n",
    "\n",
    "if __name__ == '__main__':\n",
    "    unittest.main()"
   ]
  },
  {
   "cell_type": "markdown",
   "metadata": {
    "id": "vpIPKL439zkw"
   },
   "source": [
    "# Задача 6\n",
    "Написать функцию, принимающая целое положительное число. Функция должна вернуть\n",
    "строку вида “(n1**p1)(n2**p2)…(nk**pk)” представляющая разложение числа на простые\n",
    "множители (если pi == 1, то выводить только ni).\n",
    "Например, для числа 86240 функция должна вернуть “(2**5)(5)(7**2)(11)”. Написать тесты для кода"
   ]
  },
  {
   "cell_type": "code",
   "execution_count": null,
   "metadata": {
    "id": "pFebmcZk94Jw"
   },
   "outputs": [],
   "source": [
    "def prime_factorization(n):\n",
    "    if n <= 0:\n",
    "        raise ValueError(\"Input must be a positive integer.\")\n",
    "    \n",
    "    factors = {}\n",
    "    divisor = 2 while n > 1:\n",
    "        while n % divisor == 0:\n",
    "            if divisor in factors:\n",
    "                factors[divisor] += 1 else:\n",
    "                factors[divisor] = 1 n //= divisor divisor += 1 result = []\n",
    "    for prime, power in factors.items():\n",
    "        if power == 1:\n",
    "            result.append(f\"({prime})\")\n",
    "        else:\n",
    "            result.append(f\"({prime}**{power})\")\n",
    " return ''.join(result)\n",
    "\n",
    "# Тесты\n",
    "import unittest\n",
    "\n",
    "class TestPrimeFactorization(unittest.TestCase):\n",
    "    def test_simple_prime(self):\n",
    "        self.assertEqual(prime_factorization(7), \"(7)\")\n",
    "    \n",
    "    def test_multiple_primes(self):\n",
    "        self.assertEqual(prime_factorization(30), \"(2)(3)(5)\")\n",
    "    \n",
    "    def test_power_of_prime(self):\n",
    "        self.assertEqual(prime_factorization(8), \"(2**3)\")\n",
    "    \n",
    "    def test_mixed_factors(self):\n",
    "        self.assertEqual(prime_factorization(86240), \"(2**5)(5)(7)(11)\")\n",
    " def test_large_number(self):\n",
    "        self.assertEqual(prime_factorization(360), \"(2**3)(3**2)(5)\")\n",
    "\n",
    "    def test_zero_and_negative(self):\n",
    "        with self.assertRaises(ValueError):\n",
    "            prime_factorization(0)\n",
    "        with self.assertRaises(ValueError):\n",
    "            prime_factorization(-10)\n",
    "\n",
    "if __name__ == '__main__':\n",
    "    unittest.main()"
   ]
  },
  {
   "cell_type": "markdown",
   "metadata": {
    "id": "ps2s0BudX7A2"
   },
   "source": [
    "# Задача 7\n",
    "Написать функцию, принимающая целое число n, задающее количество кубиков. Функция\n",
    "должна определить, можно ли из данного кол-ва кубиков построить пирамиду, то есть\n",
    "можно ли представить число n как 1^2+2^2+3^2+…+k^2. Если можно, то функция должна\n",
    "вернуть k, иначе строку “It is impossible”. Написать тесты для кода"
   ]
  },
  {
   "cell_type": "code",
   "execution_count": null,
   "metadata": {
    "id": "3YPjEXxhX_YT"
   },
   "outputs": [],
   "source": [
    "def can_build_pyramid(n):\n",
    "    if n <= 0:\n",
    "        raise ValueError(\"Input must be a positive integer.\")\n",
    "    \n",
    "    k = 0 total = 0 while total < n:\n",
    "        k += 1 total += k ** 2\n",
    "    \n",
    "    if total == n:\n",
    "        return k\n",
    "    else:\n",
    "        return \"It is impossible\"\n",
    "\n",
    "# Тесты\n",
    "import unittest\n",
    "\n",
    "class TestCanBuildPyramid(unittest.TestCase):\n",
    "    def test_possible_pyramid(self):\n",
    "        self.assertEqual(can_build_pyramid(14), 3)  # 1^2 + 2^2 + 3^2 = 14\n",
    "    \n",
    "    def test_another_possible_pyramid(self):\n",
    "        self.assertEqual(can_build_pyramid(30), 4)  # 1^2 + 2^2 + 3^2 + 4^2 = 30\n",
    "    \n",
    "    def test_impossible_pyramid(self):\n",
    "        self.assertEqual(can_build_pyramid(15), \"It is impossible\")\n",
    "    \n",
    "    def test_zero_and_negative(self):\n",
    "        with self.assertRaises(ValueError):\n",
    "            can_build_pyramid(0)\n",
    "        with self.assertRaises(ValueError):\n",
    "            can_build_pyramid(-10)\n",
    "\n",
    "if __name__ == '__main__':\n",
    "    unittest.main()"
   ]
  },
  {
   "cell_type": "markdown",
   "metadata": {
    "id": "KeKgmIdAQMEJ"
   },
   "source": [
    "# Задача 8\n",
    "Функция принимает на вход положительное число и определяет является ли оно сбалансированным, т.е. сумма цифр до средних равна сумме цифр после. Средними в случае нечетного числа цифр считать одну цифру, в случае четного - две средних. Написать тесты для кода"
   ]
  },
  {
   "cell_type": "code",
   "execution_count": null,
   "metadata": {
    "id": "gMAAqtqlQrZt"
   },
   "outputs": [],
   "source": [
    "def is_balanced_number(n):\n",
    "    if n <= 0:\n",
    "        raise ValueError(\"Input must be a positive integer.\")\n",
    "    \n",
    "    digits = [int(d) for d in str(n)]\n",
    "    length = len(digits)\n",
    " if length % 2 == 1:\n",
    "        mid_index = length // 2\n",
    "        left_sum = sum(digits[:mid_index])\n",
    "        right_sum = sum(digits[mid_index + 1:])\n",
    "    else:\n",
    "        mid_index = length // 2\n",
    "        left_sum = sum(digits[:mid_index - 1])\n",
    "        right_sum = sum(digits[mid_index + 1:])\n",
    " return left_sum == right_sum\n",
    "\n",
    "# Тесты\n",
    "import unittest\n",
    "\n",
    "class TestIsBalancedNumber(unittest.TestCase):\n",
    "    def test_balanced_odd(self):\n",
    "        self.assertTrue(is_balanced_number(12321))  # 1+2 = 3 and 2+1 = 3 def test_balanced_even(self):\n",
    "        self.assertTrue(is_balanced_number(123321))  # 1+2 = 3 and 3+2 = 3 def test_not_balanced_odd(self):\n",
    "        self.assertFalse(is_balanced_number(12345))  # 1+2 != 4+5 def test_not_balanced_even(self):\n",
    "        self.assertFalse(is_balanced_number(123456))  # 1+2 != 5+6 def test_single_digit(self):\n",
    "        self.assertTrue(is_balanced_number(7))  # Single digit is balanced by default def test_zero_and_negative(self):\n",
    "        with self.assertRaises(ValueError):\n",
    "            is_balanced_number(0)\n",
    "        with self.assertRaises(ValueError):\n",
    "            is_balanced_number(-10)\n",
    "\n",
    "if __name__ == '__main__':\n",
    "    unittest.main()"
   ]
  }
 ],
 "metadata": {
  "colab": {
   "provenance": []
  },
  "kernelspec": {
   "display_name": "Python 3 (ipykernel)",
   "language": "python",
   "name": "python3"
  },
  "language_info": {
   "codemirror_mode": {
    "name": "ipython",
    "version": 3
   },
   "file_extension": ".py",
   "mimetype": "text/x-python",
   "name": "python",
   "nbconvert_exporter": "python",
   "pygments_lexer": "ipython3",
   "version": "3.12.4"
  }
 },
 "nbformat": 4,
 "nbformat_minor": 4
}
